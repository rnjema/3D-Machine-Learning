{
  "nbformat": 4,
  "nbformat_minor": 0,
  "metadata": {
    "colab": {
      "provenance": [],
      "authorship_tag": "ABX9TyOE1EpUHWMVb57LbxuwziiQ",
      "include_colab_link": true
    },
    "kernelspec": {
      "name": "python3",
      "display_name": "Python 3"
    },
    "language_info": {
      "name": "python"
    }
  },
  "cells": [
    {
      "cell_type": "markdown",
      "metadata": {
        "id": "view-in-github",
        "colab_type": "text"
      },
      "source": [
        "<a href=\"https://colab.research.google.com/github/rnjema/3D-Machine-Learning/blob/master/3_01_rn_climate_langgraph_rag.ipynb\" target=\"_parent\"><img src=\"https://colab.research.google.com/assets/colab-badge.svg\" alt=\"Open In Colab\"/></a>"
      ]
    },
    {
      "cell_type": "markdown",
      "source": [
        "# Multi-Agent Retrieval for Climate Change App"
      ],
      "metadata": {
        "id": "zwrt5G-xsqci"
      }
    },
    {
      "cell_type": "code",
      "execution_count": null,
      "metadata": {
        "id": "HaVx2zBrxJxv"
      },
      "outputs": [],
      "source": []
    },
    {
      "cell_type": "markdown",
      "source": [],
      "metadata": {
        "id": "ziNgaFV-smRO"
      }
    },
    {
      "cell_type": "code",
      "source": [],
      "metadata": {
        "id": "kObPKmb9scD4"
      },
      "execution_count": null,
      "outputs": []
    }
  ]
}