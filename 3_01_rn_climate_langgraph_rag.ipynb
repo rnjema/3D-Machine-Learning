{
  "nbformat": 4,
  "nbformat_minor": 0,
  "metadata": {
    "colab": {
      "provenance": [],
      "authorship_tag": "ABX9TyOE1EpUHWMVb57LbxuwziiQ",
      "include_colab_link": true
    },
    "kernelspec": {
      "name": "python3",
      "display_name": "Python 3"
    },
    "language_info": {
      "name": "python"
    }
  },
  "cells": [
    {
      "cell_type": "code",
      "execution_count": null,
      "metadata": {
        "id": "HaVx2zBrxJxv"
      },
      "outputs": [],
      "source": []
    },
    {
      "cell_type": "markdown",
      "source": [],
      "metadata": {
        "id": "ziNgaFV-smRO"
      }
    },
    {
      "cell_type": "code",
      "source": [],
      "metadata": {
        "id": "kObPKmb9scD4"
      },
      "execution_count": null,
      "outputs": []
    }
  ]
}
